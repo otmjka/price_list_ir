{
 "cells": [
  {
   "cell_type": "code",
   "execution_count": 12,
   "metadata": {},
   "outputs": [],
   "source": [
    "from indexes.tn import build_tn_indexes\n",
    "from helpers.letters import get_letters_stats"
   ]
  },
  {
   "cell_type": "markdown",
   "metadata": {},
   "source": [
    "remove table "
   ]
  },
  {
   "cell_type": "code",
   "execution_count": 44,
   "metadata": {},
   "outputs": [
    {
     "data": {
      "text/plain": [
       "0"
      ]
     },
     "execution_count": 44,
     "metadata": {},
     "output_type": "execute_result"
    }
   ],
   "source": [
    "# truncate_table(TN_TERM_DOCS, rw=True)\n",
    "# recs = db_tn.get_term_docs_table()\n",
    "# len(recs)"
   ]
  },
  {
   "cell_type": "code",
   "execution_count": 15,
   "metadata": {},
   "outputs": [
    {
     "name": "stdout",
     "output_type": "stream",
     "text": [
      "CPU times: user 73.5 ms, sys: 2.83 ms, total: 76.3 ms\n",
      "Wall time: 75.9 ms\n"
     ]
    }
   ],
   "source": [
    "%time indexes = build_tn_indexes()\n",
    "tn_terms = indexes['terms_docs']"
   ]
  },
  {
   "cell_type": "code",
   "execution_count": 17,
   "metadata": {},
   "outputs": [
    {
     "data": {
      "text/plain": [
       "{'-': 1618,\n",
       " 'д': 2258,\n",
       " 'и': 7940,\n",
       " 'м': 3042,\n",
       " 'п': 2330,\n",
       " '0': 182,\n",
       " '.': 27,\n",
       " '2': 92,\n",
       " '5': 83,\n",
       " '1': 150,\n",
       " '%': 7,\n",
       " '7': 26,\n",
       " 'в': 1892,\n",
       " 'а': 7886,\n",
       " 'л': 4993,\n",
       " 'е': 5324,\n",
       " 'н': 5880,\n",
       " 'т': 4568,\n",
       " 'я': 323,\n",
       " '6': 27,\n",
       " 'i': 23,\n",
       " 'n': 13,\n",
       " 'с': 3879,\n",
       " '3': 78,\n",
       " '/': 21,\n",
       " '4': 47,\n",
       " 'о': 6859,\n",
       " 'й': 485,\n",
       " 'г': 1340,\n",
       " '9': 62,\n",
       " '8': 28,\n",
       " 's': 8,\n",
       " 'm': 8,\n",
       " 'f': 4,\n",
       " 't': 4,\n",
       " 'l': 45,\n",
       " 'x': 1,\n",
       " 'х': 399,\n",
       " 'к': 3830,\n",
       " 'ф': 1650,\n",
       " 'р': 5417,\n",
       " 'у': 1279,\n",
       " 'ц': 878,\n",
       " 'э': 688,\n",
       " 'б': 1321,\n",
       " 'c': 13,\n",
       " 'r': 6,\n",
       " 'e': 10,\n",
       " 'g': 4,\n",
       " 'a': 12,\n",
       " 'b': 39,\n",
       " 'd': 7,\n",
       " 'w': 3,\n",
       " 'y': 4,\n",
       " 'p': 4,\n",
       " 'o': 40,\n",
       " 'h': 8,\n",
       " 'u': 3,\n",
       " 'z': 1,\n",
       " 'з': 1261,\n",
       " 'ы': 220,\n",
       " 'q': 2,\n",
       " 'v': 3,\n",
       " 'ж': 156,\n",
       " 'ю': 218,\n",
       " 'ь': 516,\n",
       " 'ъ': 11,\n",
       " 'ч': 133,\n",
       " 'ш': 69,\n",
       " 'щ': 28,\n",
       " 'ё': 2,\n",
       " '’': 1,\n",
       " '№': 4}"
      ]
     },
     "execution_count": 17,
     "metadata": {},
     "output_type": "execute_result"
    }
   ],
   "source": [
    "tn_letters_stats = get_letters_stats(tn_terms)\n",
    "tn_letters_stats"
   ]
  },
  {
   "cell_type": "code",
   "execution_count": 9,
   "metadata": {},
   "outputs": [
    {
     "data": {
      "text/plain": [
       "dict_keys(['-', 'д', 'и', 'м', 'п', '0', '.', '2', '5', '1', '%', '7', 'в', 'а', 'л', 'е', 'н', 'т', 'я', '6', 'i', 'n', 'с', '3', '/', '4', 'о', 'й', 'г', '9', '8', 's', 'm', 'f', 't', 'l', 'x', 'х', 'к', 'ф', 'р', 'у', 'ц', 'э', 'б', 'c', 'r', 'e', 'g', 'a', 'b', 'd', 'w', 'y', 'p', 'o', 'h', 'u', 'z', 'з', 'ы', 'q', 'v', 'ж', 'ю', 'ь', 'ъ', 'ч', 'ш', 'щ', 'ё', '’', '№'])"
      ]
     },
     "execution_count": 9,
     "metadata": {},
     "output_type": "execute_result"
    }
   ],
   "source": [
    "tn_letters_stats.keys()"
   ]
  }
 ],
 "metadata": {
  "kernelspec": {
   "display_name": "Python 3",
   "language": "python",
   "name": "python3"
  },
  "language_info": {
   "codemirror_mode": {
    "name": "ipython",
    "version": 3
   },
   "file_extension": ".py",
   "mimetype": "text/x-python",
   "name": "python",
   "nbconvert_exporter": "python",
   "pygments_lexer": "ipython3",
   "version": "3.7.3"
  }
 },
 "nbformat": 4,
 "nbformat_minor": 2
}
