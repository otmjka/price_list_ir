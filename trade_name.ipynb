{
 "cells": [
  {
   "cell_type": "code",
   "execution_count": null,
   "metadata": {},
   "outputs": [],
   "source": [
    "# хочу идти по verified\n",
    "# 1. строчка прайса\n",
    "# 2. что верифицировано\n",
    "# 3. что найдено"
   ]
  },
  {
   "cell_type": "code",
   "execution_count": 13,
   "metadata": {},
   "outputs": [],
   "source": [
    "# from db.verified import report_row_num_un_uuid # (0)\n",
    "# # UN skus for indexing\n",
    "# from db.un import get_en_skus\n",
    "# from db.company import get_addr_company_table\n",
    "# from indexes.tn import build_tn_indexes, add_to_tn_index\n",
    "# from indexes.skus import build_sku_row_idx\n",
    "\n",
    "# from prices.helpers import load_pulse # (1)\n",
    "\n",
    "# from zones.tn import tn_zone\n",
    "# from zones.company import through_company_zone\n",
    "# from indexes.company import build_company_idx"
   ]
  },
  {
   "cell_type": "markdown",
   "metadata": {},
   "source": [
    "# Verified"
   ]
  },
  {
   "cell_type": "code",
   "execution_count": 2,
   "metadata": {},
   "outputs": [],
   "source": [
    "### price_row_num, un_id\n",
    "### OrderedDict([(39, 'a4fb182c-9d71-4d62-a405-70947f1dcc4e'),\n",
    "###             (40, 'a4fb182c-9d71-4d62-a405-70947f1dcc4e'), ...])\n",
    "verified = report_row_num_un_uuid() # (0)"
   ]
  },
  {
   "cell_type": "markdown",
   "metadata": {},
   "source": [
    "# Price list"
   ]
  },
  {
   "cell_type": "code",
   "execution_count": 5,
   "metadata": {},
   "outputs": [],
   "source": [
    "plist = load_pulse() # (1)"
   ]
  },
  {
   "cell_type": "markdown",
   "metadata": {},
   "source": [
    "# Indexes\n",
    "\n",
    "1. skus\n",
    "2. trade_name"
   ]
  },
  {
   "cell_type": "code",
   "execution_count": 226,
   "metadata": {},
   "outputs": [
    {
     "data": {
      "text/plain": [
       "dict_keys(['company_id_idx', 'company_id_idx_inv', 'terms_docs', 'companies_table', 'companies_synonyms'])"
      ]
     },
     "execution_count": 226,
     "metadata": {},
     "output_type": "execute_result"
    }
   ],
   "source": [
    "company_idx.keys()"
   ]
  },
  {
   "cell_type": "code",
   "execution_count": 30,
   "metadata": {},
   "outputs": [
    {
     "data": {
      "text/plain": [
       "dict_keys(['recs', 'addr_cmp', 'cmp_addreses'])"
      ]
     },
     "execution_count": 30,
     "metadata": {},
     "output_type": "execute_result"
    }
   ],
   "source": [
    "# # %time un_skus = get_en_skus()\n",
    "\n",
    "# sku_indexes = build_sku_row_idx()\n",
    "# # skus_rows_id_idx = sku_indexes['rows_id'] # {..., [`${row_num}`]: un_id, ...}\n",
    "# skus_id_rows_idx = sku_indexes['rows_id_inv'] # {..., [`${un_id}`]: row_num, ...}\n",
    "\n",
    "# %time tn_indexes = build_tn_indexes()\n",
    "\n",
    "#\n",
    "# Company\n",
    "#\n",
    "# from indexes.company import build_company_idx\n",
    "# TASK!: address_id => company_id => company short name\n",
    "# company_idx = build_company_idx()\n",
    "\n",
    "#\n",
    "# Company Address\n",
    "#\n",
    "\n",
    "# from db.company import get_addr_company_table\n",
    "# addr_company_idx = get_addr_company_table()\n",
    "\n",
    "# company_id_by_address_id = addr_company_idx['addr_cmp']"
   ]
  },
  {
   "cell_type": "code",
   "execution_count": 41,
   "metadata": {},
   "outputs": [],
   "source": [
    "# company_idx.keys()\n",
    "# company_id_idx = company_idx['company_id_idx']\n",
    "# company_src = company_idx['companies_table']\n",
    "# company_src[:10]\n"
   ]
  },
  {
   "cell_type": "markdown",
   "metadata": {},
   "source": [
    "# dosage"
   ]
  },
  {
   "cell_type": "code",
   "execution_count": 46,
   "metadata": {},
   "outputs": [
    {
     "data": {
      "text/plain": [
       "('0006df9c-f765-4821-82f0-0f5dd6b28126', 'лиофилизат спрея', '13.3')"
      ]
     },
     "execution_count": 46,
     "metadata": {},
     "output_type": "execute_result"
    }
   ],
   "source": [
    "# from db.dosage import fetch_dosage_forms\n",
    "# dosage_forms_idx['recs'] = fetch_dosage_forms()\n",
    "dosage_forms_recs[0]"
   ]
  },
  {
   "cell_type": "code",
   "execution_count": 102,
   "metadata": {},
   "outputs": [],
   "source": [
    "# from indexes.forms import build_dosage_forms_idx\n",
    "# dosage_forms_idx = build_dosage_forms_idx()\n",
    "dosage_row_id = dosage_forms_idx['row_id']\n",
    "dosage_id_row = dosage_forms_idx['id_row']\n",
    "# dosage_forms_recs = dosage_forms_idx['recs']\n",
    "# dosage_forms_idx.keys()\n",
    "# row, un_id = verified_items[0]\n",
    "# sku_row = skus_id_rows_idx[un_id]\n",
    "# un_sku_data = un_skus[sku_row]\n",
    "\n",
    "# sku_data = un_sku_data[1]\n",
    "# dosage_id_list = get_dosage_form_id(sku_data)\n",
    "# for dosage_id in dosage_id_list:\n",
    "#     dosage_row = dosage_row_id[dosage_id]\n",
    "#     dosage_rec = dosage_forms_recs[dosage_row]\n",
    "#     dosage_name = dosage_rec[1]\n",
    "#     print(dosage_name)\n",
    "\n",
    "# dosage_name"
   ]
  },
  {
   "cell_type": "code",
   "execution_count": 163,
   "metadata": {},
   "outputs": [
    {
     "data": {
      "text/plain": [
       "dict_keys(['terms_docs', 'row_id', 'id_row', 'recs'])"
      ]
     },
     "execution_count": 163,
     "metadata": {},
     "output_type": "execute_result"
    }
   ],
   "source": [
    "dosage_forms_idx.keys()\n",
    "dict_keys(['terms_docs', 'row_id', 'id_row', 'recs'])"
   ]
  },
  {
   "cell_type": "code",
   "execution_count": 68,
   "metadata": {},
   "outputs": [
    {
     "name": "stdout",
     "output_type": "stream",
     "text": [
      "[0]\n",
      "P: 5-Нок табл. 50 мг х50 [Lek – Вектор]\n",
      "U: [5-нок] [таблетки, покрытые оболочкой] [ЛЕК]\n",
      "S: tn_zone dosage_zone company_zone\n",
      "[1]\n",
      "P: 5-Нок табл. 50 мг х50 [Lek – Сотекс]\n",
      "U: [5-нок] [таблетки, покрытые оболочкой] [ЛЕК]\n",
      "S: tn_zone dosage_zone company_zone\n",
      "[2]\n",
      "P: 5-Нок табл. п/о 50 мг х50 [Lek]\n",
      "U: [5-нок] [таблетки, покрытые оболочкой] [ЛЕК]\n",
      "S: tn_zone dosage_zone company_zone\n",
      "[3]\n",
      "P: 5-фторурацил конц-т д/приг. р-ра инфуз. 250 мг фл. 5 мл. х1 [Ebewe]\n",
      "U: [5-фторурацил-эбеве] [концентрат для приготовления раствора для инфузий] [ЕБЕВЕ ФАРМА]\n",
      "S: tn_zone dosage_zone company_zone\n",
      "[4]\n",
      "P: 5-фторурацил конц-т д/приг. р-ра инфуз. 250 мг фл. 5 мл. х5 [Ebewe]\n",
      "U: [5-фторурацил-эбеве] [концентрат для приготовления раствора для инфузий] [ЕБЕВЕ ФАРМА]\n",
      "S: tn_zone dosage_zone company_zone\n",
      "[5]\n",
      "P: 5-фторурацил конц-т д/приг. р-ра инфуз. 50 мг/мл фл. 20 мл. х1 не исп [Ebewe Pharma GesmbH Nfg KG]\n",
      "U: [5-фторурацил-эбеве] [концентрат для приготовления раствора для инфузий] [ЕБЕВЕ ФАРМА]\n",
      "S: tn_zone dosage_zone company_zone\n",
      "[6]\n",
      "P: 5-фторурацил конц-т д/приг. р-ра инфуз. 500 мг фл. 10 мл. х1 [Ebewe]\n",
      "U: [5-фторурацил-эбеве] [концентрат для приготовления раствора для инфузий] [ЕБЕВЕ ФАРМА]\n",
      "S: tn_zone dosage_zone company_zone\n",
      "[7]\n",
      "P: 5-фторурацил конц-т д/приг. р-ра инфуз. 5000 мг фл. 100 мл. х1 [Ebewe]\n",
      "U: [5-фторурацил-эбеве] [концентрат для приготовления раствора для инфузий] [ЕБЕВЕ ФАРМА]\n",
      "S: tn_zone dosage_zone company_zone\n",
      "[8]\n",
      "P: 5-фторурацил-Эбеве конц-т д/приг. р-ра инфуз. 50 мг/мл фл. 20 мл. х1 [Ebewe Pharma GesmbH Nfg KG]\n",
      "U: [5-фторурацил-эбеве] [концентрат для приготовления раствора для инфузий] [ЕБЕВЕ ФАРМА]\n",
      "S: tn_zone dosage_zone company_zone\n",
      "[9]\n",
      "P: 9 месяцев Фолиевая Кислота табл. п/о плен 0.4 мг х30 [ВалентаФармацевтика/ВалентаФарм]\n",
      "U: [9 месяцев фолиевая кислота] [таблетки, покрытые плёночной оболочкой] [ВАЛЕНТА ФАРМАЦЕВТИКА]\n",
      "S: tn_zone dosage_zone company_zone\n"
     ]
    }
   ],
   "source": [
    "verified_items = list(verified.items())[:10]\n",
    "for i, (price_i, un_id) in enumerate(verified_items):\n",
    "\n",
    "    # price\n",
    "    \n",
    "    show_pline(i, price_i, plist)\n",
    "\n",
    "    # verified\n",
    "    \n",
    "    # un_id => str\n",
    "    sku_row = skus_id_rows_idx[un_id]\n",
    "    un_sku_data = un_skus[sku_row]\n",
    "    sku_msg = show_sku(un_sku_data)\n",
    "    print('U: {}'.format(sku_msg))\n",
    "    print('S: {} {} {}'.format('tn_zone', 'dosage_zone', 'company_zone'))\n"
   ]
  },
  {
   "cell_type": "markdown",
   "metadata": {},
   "source": [
    "# trade_name_zone"
   ]
  },
  {
   "cell_type": "code",
   "execution_count": 85,
   "metadata": {},
   "outputs": [],
   "source": [
    "# get_tn(60249)\n",
    "# from zones.tn import tn_zone\n",
    "# get_tn_from_data # ,\n",
    "from helpers.skus import get_tn"
   ]
  },
  {
   "cell_type": "code",
   "execution_count": 227,
   "metadata": {},
   "outputs": [
    {
     "name": "stdout",
     "output_type": "stream",
     "text": [
      "0\n"
     ]
    }
   ],
   "source": [
    "verified_items = list(verified.items())[:1]\n",
    "for i, (price_i, un_id) in enumerate(verified_items):\n",
    "    name, company = extract_pline(price_i, plist)\n",
    "    res = tn_zone(name, tn_indexes['terms_docs'])\n",
    "    print(i)\n"
   ]
  },
  {
   "cell_type": "code",
   "execution_count": 89,
   "metadata": {},
   "outputs": [],
   "source": [
    "import db.un as db_un\n",
    "skus = db_un.get_en_skus()\n",
    "TRADE_NAME = 'trade_name'\n",
    "get_dosage\n",
    "def get_tn(row_num: int):\n",
    "    \n",
    "    # start index with 1\n",
    "    sku_data = skus[row_num][1]\n",
    "    tn = sku_data[TRADE_NAME]\n",
    "    return tn"
   ]
  },
  {
   "cell_type": "code",
   "execution_count": 90,
   "metadata": {},
   "outputs": [
    {
     "name": "stdout",
     "output_type": "stream",
     "text": [
      "5-нок\n",
      "корвитол 50\n",
      "l-тироксин 50 берлин-хеми\n",
      "l-тироксин 50 берлин-хеми\n",
      "корвитол 50\n",
      "индометацин 50 берлин-хеми\n",
      "хумалог микс 50\n",
      "корвитол 50\n",
      "индометацин 50 берлин-хеми\n",
      "l-тироксин 50 берлин-хеми\n",
      "новомикс 50 флекспен\n",
      "хумалог микс 50\n",
      "индометацин 50 берлин-хеми\n",
      "глюкаген 1 мг гипокит\n"
     ]
    },
    {
     "data": {
      "text/plain": [
       "[93090,\n",
       " 20653,\n",
       " 32225,\n",
       " 36884,\n",
       " 36953,\n",
       " 54128,\n",
       " 57125,\n",
       " 71745,\n",
       " 82734,\n",
       " 83973,\n",
       " 89683,\n",
       " 111617,\n",
       " 123446,\n",
       " 58886]"
      ]
     },
     "execution_count": 90,
     "metadata": {},
     "output_type": "execute_result"
    }
   ],
   "source": [
    "tn_results = res[0]\n",
    "\n",
    "docs = list()\n",
    "for term, term_docs in tn_results:\n",
    "    docs += term_docs != None and term_docs or []\n",
    "for doc in docs:\n",
    "    print(get_tn(doc))\n",
    "docs"
   ]
  },
  {
   "cell_type": "markdown",
   "metadata": {},
   "source": [
    "# dosage"
   ]
  },
  {
   "cell_type": "code",
   "execution_count": 217,
   "metadata": {},
   "outputs": [],
   "source": [
    "# dosage_forms_idx.keys()\n",
    "# dict_keys(['terms_docs', 'row_id', 'id_row', 'recs'])\n",
    "\n",
    "# ('0006df9c-f765-4821-82f0-0f5dd6b28126', 'лиофилизат спрея', '13.3')\n",
    "def get_dosage_by_row(doc):\n",
    "    dosage_rec = dosage_forms_recs[doc]\n",
    "    uuid, name, code = dosage_rec\n",
    "    return name\n",
    "\n",
    "def get_dosage_row_by_un_id(un_id):\n",
    "    # skus_id_row_idx = sku_indexes['rows_id_inv']\n",
    "    sku_row_number = skus_id_row_idx[un_id]\n",
    "    sku_data = skus[sku_row_number][1]\n",
    "    dosage_id_list = get_dosage_form_id(sku_data)\n",
    "    dosage_names = dosage_names_by_id_list(dosage_id_list)\n",
    "    dosage_rows = dosage_rows_by_id_list(dosage_id_list)\n",
    "    return dosage_rows, dosage_names\n",
    "\n",
    "# из верифицированных берем чтоб добавить в словарь\n",
    "def get_verified_dosage_by_row(price_row):\n",
    "    un_id = verified[price_row]\n",
    "    dosage_rows, dosage_names = get_dosage_row_by_un_id(un_id)\n",
    "    print(dosage_rows, dosage_names)\n",
    "    return dosage_rows, dosage_names\n",
    "\n",
    "def add_dosage_term_list_doc(terms, verified_row,terms_docs=dosage_forms_idx['terms_docs']):\n",
    "    dosage_docs, dosage_names = get_verified_dosage_by_row(verified_row)\n",
    "    \n",
    "    for t in terms:\n",
    "        if t not in terms_docs:\n",
    "            print('[{}] not exists!'.format(t))\n",
    "            terms_docs[t] = list()\n",
    "        docs = terms_docs[t]\n",
    "        for ddoc in dosage_docs:\n",
    "            if ddoc in docs:\n",
    "                print('{} exists in {} skipped'.format(ddoc, t))\n",
    "                continue\n",
    "            docs.append(ddoc)\n",
    "            terms_docs[t] = sorted(docs)"
   ]
  },
  {
   "cell_type": "code",
   "execution_count": 219,
   "metadata": {},
   "outputs": [
    {
     "name": "stdout",
     "output_type": "stream",
     "text": [
      "[1225] ['таблетки, покрытые оболочкой']\n",
      "1225 exists in табл. skipped\n",
      "1225 exists in табл skipped\n"
     ]
    }
   ],
   "source": [
    "# dosage_terms_docs['табл.']\n",
    "# dosage_forms_idx['recs'][dosage_forms_idx['id_row']['aef3b0ca-d3ef-4d32-a078-923f8c6426ce']]\n",
    "# from indexes.forms import get_dosage_form_id\n",
    "# get_verified_dosage_by_row()\n",
    "# verified[39]\n",
    "# skus_id_row_idx = sku_indexes['rows_id_inv']\n",
    "add_term_doc(['табл.', 'табл'], 39)\n",
    "# add_term_doc(, 39)\n"
   ]
  },
  {
   "cell_type": "code",
   "execution_count": 137,
   "metadata": {},
   "outputs": [],
   "source": [
    "from helpers.strings import get_bow\n",
    "def zone_docs(sku_name, terms_docs):\n",
    "    name_terms = get_bow(sku_name)\n",
    "    freq = list()\n",
    "    for term in name_terms:\n",
    "        docs = None\n",
    "        if term in terms_docs:\n",
    "            docs = terms_docs[term]\n",
    "        freq.append((term, docs))\n",
    "    return freq"
   ]
  },
  {
   "cell_type": "code",
   "execution_count": 224,
   "metadata": {},
   "outputs": [
    {
     "name": "stdout",
     "output_type": "stream",
     "text": [
      "price_line\n",
      "verified_dosage_value_by_price_row\n",
      "add_term_dosage_row\n",
      "\n",
      "0 39\n",
      "таблетки, покрытые оболочкой\n",
      "\n",
      "набор диагностический многокомпонентный (50 определений)\n",
      "\n",
      "[1225, 1494]\n",
      "[('5-нок', None), ('табл.', [1225]), ('50', [1494]), ('мг', None), ('х50', None)]\n"
     ]
    },
    {
     "ename": "KeyError",
     "evalue": "1494",
     "output_type": "error",
     "traceback": [
      "\u001b[0;31m---------------------------------------------------------------------------\u001b[0m",
      "\u001b[0;31mKeyError\u001b[0m                                  Traceback (most recent call last)",
      "\u001b[0;32m<ipython-input-224-e618772cfc3f>\u001b[0m in \u001b[0;36m<module>\u001b[0;34m\u001b[0m\n\u001b[1;32m     24\u001b[0m         \u001b[0mres\u001b[0m\u001b[0;34m.\u001b[0m\u001b[0mappend\u001b[0m\u001b[0;34m(\u001b[0m\u001b[0msku_docs_by_dosage_row\u001b[0m\u001b[0;34m[\u001b[0m\u001b[0mdosage_doc\u001b[0m\u001b[0;34m]\u001b[0m\u001b[0;34m)\u001b[0m\u001b[0;34m\u001b[0m\u001b[0;34m\u001b[0m\u001b[0m\n\u001b[1;32m     25\u001b[0m     \u001b[0;32mreturn\u001b[0m \u001b[0mres\u001b[0m\u001b[0;34m\u001b[0m\u001b[0;34m\u001b[0m\u001b[0m\n\u001b[0;32m---> 26\u001b[0;31m \u001b[0msku_doc_by_dosage_docs\u001b[0m\u001b[0;34m(\u001b[0m\u001b[0mdocs\u001b[0m\u001b[0;34m)\u001b[0m\u001b[0;34m\u001b[0m\u001b[0;34m\u001b[0m\u001b[0m\n\u001b[0m\u001b[1;32m     27\u001b[0m \u001b[0;31m# add_term_doc('табл.', )\u001b[0m\u001b[0;34m\u001b[0m\u001b[0;34m\u001b[0m\u001b[0;34m\u001b[0m\u001b[0m\n",
      "\u001b[0;32m<ipython-input-224-e618772cfc3f>\u001b[0m in \u001b[0;36msku_doc_by_dosage_docs\u001b[0;34m(dosage_docs)\u001b[0m\n\u001b[1;32m     22\u001b[0m     \u001b[0mres\u001b[0m \u001b[0;34m=\u001b[0m \u001b[0;34m[\u001b[0m\u001b[0;34m]\u001b[0m\u001b[0;34m\u001b[0m\u001b[0;34m\u001b[0m\u001b[0m\n\u001b[1;32m     23\u001b[0m     \u001b[0;32mfor\u001b[0m \u001b[0mdosage_doc\u001b[0m \u001b[0;32min\u001b[0m \u001b[0mdosage_docs\u001b[0m\u001b[0;34m:\u001b[0m\u001b[0;34m\u001b[0m\u001b[0;34m\u001b[0m\u001b[0m\n\u001b[0;32m---> 24\u001b[0;31m         \u001b[0mres\u001b[0m\u001b[0;34m.\u001b[0m\u001b[0mappend\u001b[0m\u001b[0;34m(\u001b[0m\u001b[0msku_docs_by_dosage_row\u001b[0m\u001b[0;34m[\u001b[0m\u001b[0mdosage_doc\u001b[0m\u001b[0;34m]\u001b[0m\u001b[0;34m)\u001b[0m\u001b[0;34m\u001b[0m\u001b[0;34m\u001b[0m\u001b[0m\n\u001b[0m\u001b[1;32m     25\u001b[0m     \u001b[0;32mreturn\u001b[0m \u001b[0mres\u001b[0m\u001b[0;34m\u001b[0m\u001b[0;34m\u001b[0m\u001b[0m\n\u001b[1;32m     26\u001b[0m \u001b[0msku_doc_by_dosage_docs\u001b[0m\u001b[0;34m(\u001b[0m\u001b[0mdocs\u001b[0m\u001b[0;34m)\u001b[0m\u001b[0;34m\u001b[0m\u001b[0;34m\u001b[0m\u001b[0m\n",
      "\u001b[0;31mKeyError\u001b[0m: 1494"
     ]
    }
   ],
   "source": [
    "print('{}\\n{}\\n{}\\n'.format('price_line', 'verified_dosage_value_by_price_row', 'add_term_dosage_row'))\n",
    "terms_docs = dosage_forms_idx['terms_docs']\n",
    "verified_items = list(verified.items())[:1]\n",
    "for i, (price_i, un_id) in enumerate(verified_items):\n",
    "    name, company = extract_pline(price_i, plist)\n",
    "    res = zone_docs(name, terms_docs)\n",
    "    print(i, price_i)\n",
    "\n",
    "tn_results = res\n",
    "\n",
    "docs = list()\n",
    "for term, term_docs in tn_results:\n",
    "    docs += term_docs != None and term_docs or []\n",
    "for doc in docs:\n",
    "    print(get_dosage_by_row(doc))\n",
    "    print()\n",
    "print(docs)\n",
    "print(res)\n",
    "from indexes.forms import get_dosage_row_docs\n",
    "sku_docs_by_dosage_row = get_dosage_row_docs()\n",
    "def sku_doc_by_dosage_docs(dosage_docs:list):\n",
    "    res = []\n",
    "    for dosage_doc in dosage_docs:\n",
    "        res.append(sku_docs_by_dosage_row[dosage_doc])\n",
    "    return res\n",
    "\n",
    "# add_term_doc('табл.', )"
   ]
  },
  {
   "cell_type": "code",
   "execution_count": 225,
   "metadata": {},
   "outputs": [
    {
     "ename": "KeyError",
     "evalue": "1494",
     "output_type": "error",
     "traceback": [
      "\u001b[0;31m---------------------------------------------------------------------------\u001b[0m",
      "\u001b[0;31mKeyError\u001b[0m                                  Traceback (most recent call last)",
      "\u001b[0;32m<ipython-input-225-6824f8c152e1>\u001b[0m in \u001b[0;36m<module>\u001b[0;34m\u001b[0m\n\u001b[0;32m----> 1\u001b[0;31m \u001b[0mprint\u001b[0m\u001b[0;34m(\u001b[0m\u001b[0msku_doc_by_dosage_docs\u001b[0m\u001b[0;34m(\u001b[0m\u001b[0mdocs\u001b[0m\u001b[0;34m)\u001b[0m\u001b[0;34m)\u001b[0m\u001b[0;34m\u001b[0m\u001b[0;34m\u001b[0m\u001b[0m\n\u001b[0m",
      "\u001b[0;32m<ipython-input-224-e618772cfc3f>\u001b[0m in \u001b[0;36msku_doc_by_dosage_docs\u001b[0;34m(dosage_docs)\u001b[0m\n\u001b[1;32m     22\u001b[0m     \u001b[0mres\u001b[0m \u001b[0;34m=\u001b[0m \u001b[0;34m[\u001b[0m\u001b[0;34m]\u001b[0m\u001b[0;34m\u001b[0m\u001b[0;34m\u001b[0m\u001b[0m\n\u001b[1;32m     23\u001b[0m     \u001b[0;32mfor\u001b[0m \u001b[0mdosage_doc\u001b[0m \u001b[0;32min\u001b[0m \u001b[0mdosage_docs\u001b[0m\u001b[0;34m:\u001b[0m\u001b[0;34m\u001b[0m\u001b[0;34m\u001b[0m\u001b[0m\n\u001b[0;32m---> 24\u001b[0;31m         \u001b[0mres\u001b[0m\u001b[0;34m.\u001b[0m\u001b[0mappend\u001b[0m\u001b[0;34m(\u001b[0m\u001b[0msku_docs_by_dosage_row\u001b[0m\u001b[0;34m[\u001b[0m\u001b[0mdosage_doc\u001b[0m\u001b[0;34m]\u001b[0m\u001b[0;34m)\u001b[0m\u001b[0;34m\u001b[0m\u001b[0;34m\u001b[0m\u001b[0m\n\u001b[0m\u001b[1;32m     25\u001b[0m     \u001b[0;32mreturn\u001b[0m \u001b[0mres\u001b[0m\u001b[0;34m\u001b[0m\u001b[0;34m\u001b[0m\u001b[0m\n\u001b[1;32m     26\u001b[0m \u001b[0msku_doc_by_dosage_docs\u001b[0m\u001b[0;34m(\u001b[0m\u001b[0mdocs\u001b[0m\u001b[0;34m)\u001b[0m\u001b[0;34m\u001b[0m\u001b[0;34m\u001b[0m\u001b[0m\n",
      "\u001b[0;31mKeyError\u001b[0m: 1494"
     ]
    }
   ],
   "source": [
    "print(sku_doc_by_dosage_docs(docs))"
   ]
  },
  {
   "cell_type": "code",
   "execution_count": 41,
   "metadata": {},
   "outputs": [],
   "source": [
    "term0 = name_bow[0]"
   ]
  },
  {
   "cell_type": "code",
   "execution_count": 59,
   "metadata": {},
   "outputs": [],
   "source": [
    "def term_docs(term='нок', terms_docs=terms_docs):\n",
    "    if term not in terms_docs:\n",
    "        return print('[-]')\n",
    "    docs = terms_docs[term]\n",
    "    print(len(docs), len(set(docs)))\n",
    "    for doc in docs:\n",
    "        print(get_tn(doc))"
   ]
  },
  {
   "cell_type": "code",
   "execution_count": 228,
   "metadata": {},
   "outputs": [
    {
     "data": {
      "text/plain": [
       "dict_keys(['terms_docs'])"
      ]
     },
     "execution_count": 228,
     "metadata": {},
     "output_type": "execute_result"
    }
   ],
   "source": [
    "indexes = build_tn_indexes()\n",
    "# в верефицированных\n",
    "# rows_id_inv = indexes['rows_id_inv']\n",
    "# rows_id_inv['a4fb182c-9d71-4d62-a405-70947f1dcc4e']\n",
    "# terms_docs = indexes['terms_docs']\n",
    "indexes.keys()"
   ]
  },
  {
   "cell_type": "markdown",
   "metadata": {},
   "source": [
    "# END TRADE_NAME"
   ]
  },
  {
   "cell_type": "markdown",
   "metadata": {},
   "source": [
    "[?] как добавить в индекс add_to_tn_index(term='5', docs=[60249])"
   ]
  },
  {
   "cell_type": "code",
   "execution_count": 71,
   "metadata": {},
   "outputs": [],
   "source": [
    "def add_to_tn_index(term, doc):\n",
    "    # get existing item or new list\n",
    "    term_docs = term in terms_docs and terms_docs[term] or list()\n",
    "    if doc in term_docs:\n",
    "        return print('there is a doc[{}] in term[{}]'.format(doc, term))\n",
    "    # can optimizate, where insert?\n",
    "    term_docs.append(doc)\n",
    "    newdocs = sorted(term_docs)\n",
    "    terms_docs[term] = newdocs"
   ]
  },
  {
   "cell_type": "markdown",
   "metadata": {},
   "source": [
    "# TN RULES"
   ]
  },
  {
   "cell_type": "code",
   "execution_count": 72,
   "metadata": {},
   "outputs": [
    {
     "name": "stdout",
     "output_type": "stream",
     "text": [
      "there is a doc[60249] in term[5]\n",
      "there is a doc[60249] in term[нок]\n"
     ]
    }
   ],
   "source": [
    "term = '5'\n",
    "add_to_tn_index(term, doc=60249)\n",
    "term = 'нок'\n",
    "add_to_tn_index(term, doc=60249)"
   ]
  },
  {
   "cell_type": "code",
   "execution_count": 60,
   "metadata": {},
   "outputs": [
    {
     "name": "stdout",
     "output_type": "stream",
     "text": [
      "[-]\n"
     ]
    }
   ],
   "source": [
    "term_docs()"
   ]
  },
  {
   "cell_type": "code",
   "execution_count": 74,
   "metadata": {},
   "outputs": [
    {
     "data": {
      "text/plain": [
       "[[('5-нок', [60249]),\n",
       "  ('табл.', None),\n",
       "  ('50',\n",
       "   [9203,\n",
       "    24099,\n",
       "    24104,\n",
       "    29817,\n",
       "    50342,\n",
       "    50343,\n",
       "    50344,\n",
       "    91156,\n",
       "    106090,\n",
       "    131915,\n",
       "    131916,\n",
       "    132005]),\n",
       "  ('мг', [68457]),\n",
       "  ('х50', None)]]"
      ]
     },
     "execution_count": 74,
     "metadata": {},
     "output_type": "execute_result"
    }
   ],
   "source": [
    "tn_zone(name, terms_docs)"
   ]
  },
  {
   "cell_type": "markdown",
   "metadata": {},
   "source": [
    "# Company"
   ]
  },
  {
   "cell_type": "code",
   "execution_count": 128,
   "metadata": {},
   "outputs": [
    {
     "name": "stdout",
     "output_type": "stream",
     "text": [
      "dict_keys(['recs', 'addr_cmp', 'cmp_addreses'])\n"
     ]
    },
    {
     "data": {
      "text/plain": [
       "dict_keys(['company_id_idx', 'company_id_idx_inv', 'terms_docs', 'companies_table', 'companies_synonyms'])"
      ]
     },
     "execution_count": 128,
     "metadata": {},
     "output_type": "execute_result"
    }
   ],
   "source": [
    "# company_idx = build_company_idx()\n",
    "# company_terms_docs = company_idx['terms_docs']\n",
    "# company_id_idx_inv = company_idx['company_id_idx_inv']\n",
    "# companies_table = company_idx['companies_table']\n",
    "\n",
    "# un addresses \n",
    "\n",
    "addr_company_idx = get_addr_company_table()\n",
    "addr_cmp_idx = addr_company_idx['addr_cmp'] #\n",
    "cmp_addr_idx = addr_company_idx['cmp_addreses']\n",
    "print(addr_company_idx.keys())\n",
    "\n",
    "company_idx.keys()"
   ]
  },
  {
   "cell_type": "code",
   "execution_count": 137,
   "metadata": {},
   "outputs": [],
   "source": [
    "company_id_idx = company_idx['company_id_idx']\n",
    "company_id_idx"
   ]
  },
  {
   "cell_type": "code",
   "execution_count": 5,
   "metadata": {},
   "outputs": [],
   "source": [
    "# sel_plist_3_fields = sel_plist[sel_plist.columns[:3]].values\n",
    "# company_zone = company_index_to_docs(through_company_zone(sel_plist_3_fields, company_terms_docs))"
   ]
  },
  {
   "cell_type": "code",
   "execution_count": 95,
   "metadata": {},
   "outputs": [],
   "source": [
    "def company_index_to_docs(res):\n",
    "    print(res)"
   ]
  },
  {
   "cell_type": "code",
   "execution_count": null,
   "metadata": {},
   "outputs": [],
   "source": [
    "# row_num -> company_id\n",
    "# TODO: row_num -> docs\n",
    "company_row = 2696\n",
    "company_id = company_id_idx_inv[company_row]\n",
    "print('company_id {}'.format(company_id))\n",
    "addresses_cmp_id = cmp_addr_idx[addr_cmp_idx['64cb8085-926e-414a-90cf-d38a1dc4ef0b']]\n",
    "print('company_id address list: {}'.format(addresses_cmp_id))\n",
    "print('TODO: list of skus:')\n",
    "# print('company_id {}'.format(company_id))\n",
    "# # print(companies_table[company_row])\n",
    "# cmp_addr_idx"
   ]
  },
  {
   "cell_type": "code",
   "execution_count": null,
   "metadata": {},
   "outputs": [],
   "source": []
  }
 ],
 "metadata": {
  "kernelspec": {
   "display_name": "Python 3",
   "language": "python",
   "name": "python3"
  },
  "language_info": {
   "codemirror_mode": {
    "name": "ipython",
    "version": 3
   },
   "file_extension": ".py",
   "mimetype": "text/x-python",
   "name": "python",
   "nbconvert_exporter": "python",
   "pygments_lexer": "ipython3",
   "version": "3.7.3"
  }
 },
 "nbformat": 4,
 "nbformat_minor": 2
}
