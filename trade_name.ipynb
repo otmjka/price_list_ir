{
 "cells": [
  {
   "cell_type": "code",
   "execution_count": null,
   "metadata": {},
   "outputs": [],
   "source": [
    "# хочу идти по verified\n",
    "# 1. строчка прайса\n",
    "# 2. что верифицировано\n",
    "# 3. что найдено"
   ]
  },
  {
   "cell_type": "code",
   "execution_count": 9,
   "metadata": {},
   "outputs": [],
   "source": [
    "from db.verified import report_row_num_un_uuid # (0)\n",
    "# UN skus for indexing\n",
    "from db.un import get_en_skus\n",
    "\n",
    "from indexes.tn import build_tn_indexes, add_to_tn_index\n",
    "from indexes.skus import build_sku_row_idx\n",
    "\n",
    "from prices.helpers import load_pulse # (1)\n",
    "from helpers.skus import get_tn_from_data # ,  get_tn\n",
    "\n",
    "\n",
    "\n",
    "# from zones.tn import tn_zone\n",
    "# from zones.company import through_company_zone\n",
    "# from indexes.company import build_company_idx"
   ]
  },
  {
   "cell_type": "markdown",
   "metadata": {},
   "source": [
    "# Verified"
   ]
  },
  {
   "cell_type": "code",
   "execution_count": 5,
   "metadata": {},
   "outputs": [],
   "source": [
    "### price_row_num, un_id\n",
    "### OrderedDict([(39, 'a4fb182c-9d71-4d62-a405-70947f1dcc4e'),\n",
    "###             (40, 'a4fb182c-9d71-4d62-a405-70947f1dcc4e'), ...])\n",
    "verified = report_row_num_un_uuid() # (0)"
   ]
  },
  {
   "cell_type": "markdown",
   "metadata": {},
   "source": [
    "# Price list"
   ]
  },
  {
   "cell_type": "code",
   "execution_count": 6,
   "metadata": {},
   "outputs": [],
   "source": [
    "plist = load_pulse() # (1)"
   ]
  },
  {
   "cell_type": "markdown",
   "metadata": {},
   "source": [
    "# Indexes\n",
    "\n",
    "1. skus\n",
    "2. trade_name"
   ]
  },
  {
   "cell_type": "code",
   "execution_count": 10,
   "metadata": {},
   "outputs": [
    {
     "name": "stdout",
     "output_type": "stream",
     "text": [
      "CPU times: user 2.9 s, sys: 347 ms, total: 3.24 s\n",
      "Wall time: 4.94 s\n",
      "CPU times: user 57.9 ms, sys: 1.1 ms, total: 59 ms\n",
      "Wall time: 59.2 ms\n"
     ]
    }
   ],
   "source": [
    "%time un_skus = get_en_skus()\n",
    "\n",
    "sku_indexes = build_sku_row_idx()\n",
    "# skus_rows_id_idx = sku_indexes['rows_id'] # {..., [`${row_num}`]: un_id, ...}\n",
    "skus_id_rows_idx = sku_indexes['rows_id_inv'] # {..., [`${un_id}`]: row_num, ...}\n",
    "\n",
    "%time tn_indexes = build_tn_indexes()"
   ]
  },
  {
   "cell_type": "code",
   "execution_count": 17,
   "metadata": {},
   "outputs": [],
   "source": [
    "def show_sku(sku_rec: tuple):\n",
    "    sku_id, sku_data = sku_rec\n",
    "    tn = get_tn_from_data(sku_data)\n",
    "    lform = get_\n",
    "#     lform, dosage, count, pack, company = ('конц-т д/приг. р-ра инфуз.', ' 250 мг 5 мл.', 'фл.', 'х1', 'company')\n",
    "#     msg = '{} {} {} {} {}'.format(tn, lform, dosage, pack, count, company)\n",
    "    return '!!! {} {}'.format(tn, sku_data)"
   ]
  },
  {
   "cell_type": "code",
   "execution_count": 18,
   "metadata": {},
   "outputs": [
    {
     "name": "stdout",
     "output_type": "stream",
     "text": [
      "[0]\n",
      "P: 5-Нок табл. 50 мг х50 [Lek – Вектор]\n",
      "U: !!! 5-нок {'packs': {'count': 1, 'children': [{'count': 1, 'count_end': None, 'level_type': 'primary', 'pack_type_id': 'cac499b7-c76f-42d2-86d3-ca876ae92ff5', 'man_form_packs': [{'man_form_key': '0bc4ddded699fe391059188fd67fe38160bef14d014dcae4c3c0ba9dfbb437a2', 'base_measure_unit_id': 'f8d9c546-c4c4-465b-a2ac-398ba9794921', 'base_measure_unit_count': 50, 'base_measure_unit_count_end': None}]}], 'count_end': None, 'level_type': 'consumer', 'pack_type_id': '37d25638-0365-43b8-b87b-f1837a2b30b2'}, 'purpose': None, 'is_recipe': True, 'man_forms': [{'key': '0bc4ddded699fe391059188fd67fe38160bef14d014dcae4c3c0ba9dfbb437a2', 'inns': [{'inn_id': '77e8fd66-69d4-4356-ba5a-744f1d60d2af', 'base_measure_unit_id': '5d4f8663-d75e-4c69-a3fc-c0b8036d896a', 'base_measure_unit_count': 0.05, 'base_measure_unit_count_end': None}], 'dosage_form_id': 'aef3b0ca-d3ef-4d32-a078-923f8c6426ce'}], 'address_id': '6453d7e8-4b4b-4d6a-a4b4-86bb72485678', 'trade_name': '5-нок', 'cert_num_id': '0c3ce78f-d382-4b14-94c5-322ffec831cc'}\n",
      "[1]\n",
      "P: 5-Нок табл. 50 мг х50 [Lek – Сотекс]\n",
      "U: !!! 5-нок {'packs': {'count': 1, 'children': [{'count': 1, 'count_end': None, 'level_type': 'primary', 'pack_type_id': 'cac499b7-c76f-42d2-86d3-ca876ae92ff5', 'man_form_packs': [{'man_form_key': '0bc4ddded699fe391059188fd67fe38160bef14d014dcae4c3c0ba9dfbb437a2', 'base_measure_unit_id': 'f8d9c546-c4c4-465b-a2ac-398ba9794921', 'base_measure_unit_count': 50, 'base_measure_unit_count_end': None}]}], 'count_end': None, 'level_type': 'consumer', 'pack_type_id': '37d25638-0365-43b8-b87b-f1837a2b30b2'}, 'purpose': None, 'is_recipe': True, 'man_forms': [{'key': '0bc4ddded699fe391059188fd67fe38160bef14d014dcae4c3c0ba9dfbb437a2', 'inns': [{'inn_id': '77e8fd66-69d4-4356-ba5a-744f1d60d2af', 'base_measure_unit_id': '5d4f8663-d75e-4c69-a3fc-c0b8036d896a', 'base_measure_unit_count': 0.05, 'base_measure_unit_count_end': None}], 'dosage_form_id': 'aef3b0ca-d3ef-4d32-a078-923f8c6426ce'}], 'address_id': '6453d7e8-4b4b-4d6a-a4b4-86bb72485678', 'trade_name': '5-нок', 'cert_num_id': '0c3ce78f-d382-4b14-94c5-322ffec831cc'}\n",
      "[2]\n",
      "P: 5-Нок табл. п/о 50 мг х50 [Lek]\n",
      "U: !!! 5-нок {'packs': {'count': 1, 'children': [{'count': 1, 'count_end': None, 'level_type': 'primary', 'pack_type_id': 'cac499b7-c76f-42d2-86d3-ca876ae92ff5', 'man_form_packs': [{'man_form_key': '0bc4ddded699fe391059188fd67fe38160bef14d014dcae4c3c0ba9dfbb437a2', 'base_measure_unit_id': 'f8d9c546-c4c4-465b-a2ac-398ba9794921', 'base_measure_unit_count': 50, 'base_measure_unit_count_end': None}]}], 'count_end': None, 'level_type': 'consumer', 'pack_type_id': '37d25638-0365-43b8-b87b-f1837a2b30b2'}, 'purpose': None, 'is_recipe': True, 'man_forms': [{'key': '0bc4ddded699fe391059188fd67fe38160bef14d014dcae4c3c0ba9dfbb437a2', 'inns': [{'inn_id': '77e8fd66-69d4-4356-ba5a-744f1d60d2af', 'base_measure_unit_id': '5d4f8663-d75e-4c69-a3fc-c0b8036d896a', 'base_measure_unit_count': 0.05, 'base_measure_unit_count_end': None}], 'dosage_form_id': 'aef3b0ca-d3ef-4d32-a078-923f8c6426ce'}], 'address_id': '6453d7e8-4b4b-4d6a-a4b4-86bb72485678', 'trade_name': '5-нок', 'cert_num_id': '0c3ce78f-d382-4b14-94c5-322ffec831cc'}\n",
      "[3]\n",
      "P: 5-фторурацил конц-т д/приг. р-ра инфуз. 250 мг фл. 5 мл. х1 [Ebewe]\n",
      "U: !!! 5-фторурацил-эбеве {'packs': {'count': 1, 'children': [{'count': 1, 'count_end': None, 'level_type': 'primary', 'pack_type_id': 'cac499b7-c76f-42d2-86d3-ca876ae92ff5', 'man_form_packs': [{'man_form_key': '9fc20d45d22513735620252fbae3cb42d1c1162846d4a42dedf2818c51e5ad9c', 'base_measure_unit_id': 'fadb49f0-8e7b-4ce2-9e1c-26c11665c640', 'base_measure_unit_count': 0.005, 'base_measure_unit_count_end': None}]}], 'count_end': None, 'level_type': 'consumer', 'pack_type_id': '7b541ed6-4bdc-4229-a1e8-6c7e6f3ad611'}, 'purpose': None, 'is_recipe': True, 'man_forms': [{'key': '9fc20d45d22513735620252fbae3cb42d1c1162846d4a42dedf2818c51e5ad9c', 'inns': [{'inn_id': 'b0dc8cef-ce87-4fa8-960d-1958b3a3fb96', 'base_measure_unit_id': '4383f44b-4d32-4ea9-81a1-6732fabac813', 'base_measure_unit_count': 50, 'base_measure_unit_count_end': None}], 'dosage_form_id': 'bbf42a07-d620-4768-8671-00e24b17f545'}], 'address_id': '8ff9be7c-539b-4468-82b9-4c3ebaba1dfe', 'trade_name': '5-фторурацил-эбеве', 'cert_num_id': '332816e7-a05e-4a7d-b5f1-e5a565718e55'}\n",
      "[4]\n",
      "P: 5-фторурацил конц-т д/приг. р-ра инфуз. 250 мг фл. 5 мл. х5 [Ebewe]\n",
      "U: !!! 5-фторурацил-эбеве {'packs': {'count': 1, 'children': [{'count': 5, 'count_end': None, 'level_type': 'primary', 'pack_type_id': '8ddbd462-e0a3-4551-84ea-d98032ffef4e', 'man_form_packs': [{'man_form_key': '9fc20d45d22513735620252fbae3cb42d1c1162846d4a42dedf2818c51e5ad9c', 'base_measure_unit_id': 'fadb49f0-8e7b-4ce2-9e1c-26c11665c640', 'base_measure_unit_count': 0.005, 'base_measure_unit_count_end': None}]}], 'count_end': None, 'level_type': 'consumer', 'pack_type_id': '37d25638-0365-43b8-b87b-f1837a2b30b2'}, 'purpose': None, 'is_recipe': True, 'man_forms': [{'key': '9fc20d45d22513735620252fbae3cb42d1c1162846d4a42dedf2818c51e5ad9c', 'inns': [{'inn_id': 'b0dc8cef-ce87-4fa8-960d-1958b3a3fb96', 'base_measure_unit_id': '4383f44b-4d32-4ea9-81a1-6732fabac813', 'base_measure_unit_count': 50, 'base_measure_unit_count_end': None}], 'dosage_form_id': 'bbf42a07-d620-4768-8671-00e24b17f545'}], 'address_id': '8ff9be7c-539b-4468-82b9-4c3ebaba1dfe', 'trade_name': '5-фторурацил-эбеве', 'cert_num_id': '332816e7-a05e-4a7d-b5f1-e5a565718e55'}\n",
      "[5]\n",
      "P: 5-фторурацил конц-т д/приг. р-ра инфуз. 50 мг/мл фл. 20 мл. х1 не исп [Ebewe Pharma GesmbH Nfg KG]\n",
      "U: !!! 5-фторурацил-эбеве {'packs': {'count': 1, 'children': [{'count': 1, 'count_end': None, 'level_type': 'primary', 'pack_type_id': 'cac499b7-c76f-42d2-86d3-ca876ae92ff5', 'man_form_packs': [{'man_form_key': '9fc20d45d22513735620252fbae3cb42d1c1162846d4a42dedf2818c51e5ad9c', 'base_measure_unit_id': 'fadb49f0-8e7b-4ce2-9e1c-26c11665c640', 'base_measure_unit_count': 0.02, 'base_measure_unit_count_end': None}]}], 'count_end': None, 'level_type': 'consumer', 'pack_type_id': '7b541ed6-4bdc-4229-a1e8-6c7e6f3ad611'}, 'purpose': None, 'is_recipe': True, 'man_forms': [{'key': '9fc20d45d22513735620252fbae3cb42d1c1162846d4a42dedf2818c51e5ad9c', 'inns': [{'inn_id': 'b0dc8cef-ce87-4fa8-960d-1958b3a3fb96', 'base_measure_unit_id': '4383f44b-4d32-4ea9-81a1-6732fabac813', 'base_measure_unit_count': 50, 'base_measure_unit_count_end': None}], 'dosage_form_id': 'bbf42a07-d620-4768-8671-00e24b17f545'}], 'address_id': '8ff9be7c-539b-4468-82b9-4c3ebaba1dfe', 'trade_name': '5-фторурацил-эбеве', 'cert_num_id': '332816e7-a05e-4a7d-b5f1-e5a565718e55'}\n",
      "[6]\n",
      "P: 5-фторурацил конц-т д/приг. р-ра инфуз. 500 мг фл. 10 мл. х1 [Ebewe]\n",
      "U: !!! 5-фторурацил-эбеве {'packs': {'count': 1, 'children': [{'count': 1, 'count_end': None, 'level_type': 'primary', 'pack_type_id': 'cac499b7-c76f-42d2-86d3-ca876ae92ff5', 'man_form_packs': [{'man_form_key': '9fc20d45d22513735620252fbae3cb42d1c1162846d4a42dedf2818c51e5ad9c', 'base_measure_unit_id': 'fadb49f0-8e7b-4ce2-9e1c-26c11665c640', 'base_measure_unit_count': 0.01, 'base_measure_unit_count_end': None}]}], 'count_end': None, 'level_type': 'consumer', 'pack_type_id': '7b541ed6-4bdc-4229-a1e8-6c7e6f3ad611'}, 'purpose': None, 'is_recipe': True, 'man_forms': [{'key': '9fc20d45d22513735620252fbae3cb42d1c1162846d4a42dedf2818c51e5ad9c', 'inns': [{'inn_id': 'b0dc8cef-ce87-4fa8-960d-1958b3a3fb96', 'base_measure_unit_id': '4383f44b-4d32-4ea9-81a1-6732fabac813', 'base_measure_unit_count': 50, 'base_measure_unit_count_end': None}], 'dosage_form_id': 'bbf42a07-d620-4768-8671-00e24b17f545'}], 'address_id': '8ff9be7c-539b-4468-82b9-4c3ebaba1dfe', 'trade_name': '5-фторурацил-эбеве', 'cert_num_id': '332816e7-a05e-4a7d-b5f1-e5a565718e55'}\n",
      "[7]\n",
      "P: 5-фторурацил конц-т д/приг. р-ра инфуз. 5000 мг фл. 100 мл. х1 [Ebewe]\n",
      "U: !!! 5-фторурацил-эбеве {'packs': {'count': 1, 'children': [{'count': 1, 'count_end': None, 'level_type': 'primary', 'pack_type_id': 'cac499b7-c76f-42d2-86d3-ca876ae92ff5', 'man_form_packs': [{'man_form_key': '9fc20d45d22513735620252fbae3cb42d1c1162846d4a42dedf2818c51e5ad9c', 'base_measure_unit_id': 'fadb49f0-8e7b-4ce2-9e1c-26c11665c640', 'base_measure_unit_count': 0.1, 'base_measure_unit_count_end': None}]}], 'count_end': None, 'level_type': 'consumer', 'pack_type_id': '7b541ed6-4bdc-4229-a1e8-6c7e6f3ad611'}, 'purpose': None, 'is_recipe': True, 'man_forms': [{'key': '9fc20d45d22513735620252fbae3cb42d1c1162846d4a42dedf2818c51e5ad9c', 'inns': [{'inn_id': 'b0dc8cef-ce87-4fa8-960d-1958b3a3fb96', 'base_measure_unit_id': '4383f44b-4d32-4ea9-81a1-6732fabac813', 'base_measure_unit_count': 50, 'base_measure_unit_count_end': None}], 'dosage_form_id': 'bbf42a07-d620-4768-8671-00e24b17f545'}], 'address_id': '8ff9be7c-539b-4468-82b9-4c3ebaba1dfe', 'trade_name': '5-фторурацил-эбеве', 'cert_num_id': '332816e7-a05e-4a7d-b5f1-e5a565718e55'}\n",
      "[8]\n",
      "P: 5-фторурацил-Эбеве конц-т д/приг. р-ра инфуз. 50 мг/мл фл. 20 мл. х1 [Ebewe Pharma GesmbH Nfg KG]\n",
      "U: !!! 5-фторурацил-эбеве {'packs': {'count': 1, 'children': [{'count': 1, 'count_end': None, 'level_type': 'primary', 'pack_type_id': 'cac499b7-c76f-42d2-86d3-ca876ae92ff5', 'man_form_packs': [{'man_form_key': '9fc20d45d22513735620252fbae3cb42d1c1162846d4a42dedf2818c51e5ad9c', 'base_measure_unit_id': 'fadb49f0-8e7b-4ce2-9e1c-26c11665c640', 'base_measure_unit_count': 0.02, 'base_measure_unit_count_end': None}]}], 'count_end': None, 'level_type': 'consumer', 'pack_type_id': '7b541ed6-4bdc-4229-a1e8-6c7e6f3ad611'}, 'purpose': None, 'is_recipe': True, 'man_forms': [{'key': '9fc20d45d22513735620252fbae3cb42d1c1162846d4a42dedf2818c51e5ad9c', 'inns': [{'inn_id': 'b0dc8cef-ce87-4fa8-960d-1958b3a3fb96', 'base_measure_unit_id': '4383f44b-4d32-4ea9-81a1-6732fabac813', 'base_measure_unit_count': 50, 'base_measure_unit_count_end': None}], 'dosage_form_id': 'bbf42a07-d620-4768-8671-00e24b17f545'}], 'address_id': '8ff9be7c-539b-4468-82b9-4c3ebaba1dfe', 'trade_name': '5-фторурацил-эбеве', 'cert_num_id': '332816e7-a05e-4a7d-b5f1-e5a565718e55'}\n",
      "[9]\n",
      "P: 9 месяцев Фолиевая Кислота табл. п/о плен 0.4 мг х30 [ВалентаФармацевтика/ВалентаФарм]\n",
      "U: !!! 9 месяцев фолиевая кислота {'packs': {'count': 1, 'children': [{'count': 3, 'count_end': None, 'level_type': 'primary', 'pack_type_id': '96b92d30-b8b8-4a1d-b4c7-d9f05b5f40cb', 'man_form_packs': [{'man_form_key': '7ceaa2105521d4d236457fd65050c97f57c1ecd58ea187e118fc6233f4180ebc', 'base_measure_unit_id': 'f8d9c546-c4c4-465b-a2ac-398ba9794921', 'base_measure_unit_count': 10, 'base_measure_unit_count_end': None}]}], 'count_end': None, 'level_type': 'consumer', 'pack_type_id': '37d25638-0365-43b8-b87b-f1837a2b30b2'}, 'purpose': None, 'is_recipe': False, 'man_forms': [{'key': '7ceaa2105521d4d236457fd65050c97f57c1ecd58ea187e118fc6233f4180ebc', 'inns': [{'inn_id': '69233de7-3159-4c14-b656-e655abf8bc51', 'base_measure_unit_id': '5d4f8663-d75e-4c69-a3fc-c0b8036d896a', 'base_measure_unit_count': 0.0004, 'base_measure_unit_count_end': None}], 'dosage_form_id': 'cbf1cc5d-37ec-45ea-8dd3-2dec9a683cb6'}], 'address_id': '108a7210-bd91-4247-bd03-a637fadcef14', 'trade_name': '9 месяцев фолиевая кислота', 'cert_num_id': 'b6d4c58c-a6c6-472d-8179-311d32eccb15'}\n"
     ]
    }
   ],
   "source": [
    "verified_items = list(verified.items())[:10]\n",
    "for i, (price_i, un_id) in enumerate(verified_items):\n",
    "    # price\n",
    "    sel_plist = plist[price_i - 1:price_i]\n",
    "    sel_cols = sel_plist[sel_plist.columns[:3]]\n",
    "    values = sel_cols.values[0]\n",
    "    code, name, company = values\n",
    "    print('[{}]\\nP: {} [{}]'.format(i, name, company))\n",
    "    # varified\n",
    "    # un_id => str\n",
    "    sku_row = skus_id_rows_idx[un_id]\n",
    "    un_sku_data = un_skus[sku_row]\n",
    "    sku_msg = show_sku(un_sku_data)\n",
    "    print('U: {}'.format(sku_msg))\n"
   ]
  },
  {
   "cell_type": "code",
   "execution_count": 28,
   "metadata": {},
   "outputs": [
    {
     "data": {
      "text/plain": [
       "'5-нок'"
      ]
     },
     "execution_count": 28,
     "metadata": {},
     "output_type": "execute_result"
    }
   ],
   "source": [
    "get_tn(60249)"
   ]
  },
  {
   "cell_type": "code",
   "execution_count": 38,
   "metadata": {},
   "outputs": [
    {
     "data": {
      "text/plain": [
       "['5-нок', 'табл.', '50', 'мг', 'х50']"
      ]
     },
     "execution_count": 38,
     "metadata": {},
     "output_type": "execute_result"
    }
   ],
   "source": [
    "name_bow = get_bow(name)\n",
    "name_bow"
   ]
  },
  {
   "cell_type": "code",
   "execution_count": 41,
   "metadata": {},
   "outputs": [],
   "source": [
    "term0 = name_bow[0]"
   ]
  },
  {
   "cell_type": "code",
   "execution_count": 59,
   "metadata": {},
   "outputs": [],
   "source": [
    "def term_docs(term='нок', terms_docs=terms_docs):\n",
    "    if term not in terms_docs:\n",
    "        return print('[-]')\n",
    "    docs = terms_docs[term]\n",
    "    print(len(docs), len(set(docs)))\n",
    "    for doc in docs:\n",
    "        print(get_tn(doc))"
   ]
  },
  {
   "cell_type": "code",
   "execution_count": null,
   "metadata": {},
   "outputs": [],
   "source": [
    "indexes = build_tn_indexes()\n",
    "# в верефицированных\n",
    "rows_id_inv = indexes['rows_id_inv']\n",
    "rows_id_inv['a4fb182c-9d71-4d62-a405-70947f1dcc4e']\n",
    "terms_docs = indexes['terms_docs']\n",
    "indexes.keys()"
   ]
  },
  {
   "cell_type": "markdown",
   "metadata": {},
   "source": [
    "# END TRADE_NAME"
   ]
  },
  {
   "cell_type": "markdown",
   "metadata": {},
   "source": [
    "[?] как добавить в индекс add_to_tn_index(term='5', docs=[60249])"
   ]
  },
  {
   "cell_type": "code",
   "execution_count": 71,
   "metadata": {},
   "outputs": [],
   "source": [
    "def add_to_tn_index(term, doc):\n",
    "    # get existing item or new list\n",
    "    term_docs = term in terms_docs and terms_docs[term] or list()\n",
    "    if doc in term_docs:\n",
    "        return print('there is a doc[{}] in term[{}]'.format(doc, term))\n",
    "    # can optimizate, where insert?\n",
    "    term_docs.append(doc)\n",
    "    newdocs = sorted(term_docs)\n",
    "    terms_docs[term] = newdocs"
   ]
  },
  {
   "cell_type": "markdown",
   "metadata": {},
   "source": [
    "# TN RULES"
   ]
  },
  {
   "cell_type": "code",
   "execution_count": 72,
   "metadata": {},
   "outputs": [
    {
     "name": "stdout",
     "output_type": "stream",
     "text": [
      "there is a doc[60249] in term[5]\n",
      "there is a doc[60249] in term[нок]\n"
     ]
    }
   ],
   "source": [
    "term = '5'\n",
    "add_to_tn_index(term, doc=60249)\n",
    "term = 'нок'\n",
    "add_to_tn_index(term, doc=60249)"
   ]
  },
  {
   "cell_type": "code",
   "execution_count": 60,
   "metadata": {},
   "outputs": [
    {
     "name": "stdout",
     "output_type": "stream",
     "text": [
      "[-]\n"
     ]
    }
   ],
   "source": [
    "term_docs()"
   ]
  },
  {
   "cell_type": "code",
   "execution_count": 74,
   "metadata": {},
   "outputs": [
    {
     "data": {
      "text/plain": [
       "[[('5-нок', [60249]),\n",
       "  ('табл.', None),\n",
       "  ('50',\n",
       "   [9203,\n",
       "    24099,\n",
       "    24104,\n",
       "    29817,\n",
       "    50342,\n",
       "    50343,\n",
       "    50344,\n",
       "    91156,\n",
       "    106090,\n",
       "    131915,\n",
       "    131916,\n",
       "    132005]),\n",
       "  ('мг', [68457]),\n",
       "  ('х50', None)]]"
      ]
     },
     "execution_count": 74,
     "metadata": {},
     "output_type": "execute_result"
    }
   ],
   "source": [
    "tn_zone(name, terms_docs)"
   ]
  },
  {
   "cell_type": "markdown",
   "metadata": {},
   "source": [
    "# Company"
   ]
  },
  {
   "cell_type": "code",
   "execution_count": 127,
   "metadata": {},
   "outputs": [],
   "source": [
    "from db.pg import pg_con\n",
    "\n",
    "def get_addr_company_table():\n",
    "    conn, cursor = pg_con(dbname='cmpny')\n",
    "    q = 'select a.id, a.company_id from addresses as a order by a.id;'\n",
    "    cursor.execute(q)\n",
    "    recs = cursor.fetchall()\n",
    "    conn.close()\n",
    "    conn = None\n",
    "    cursor = None\n",
    "    addr = list()\n",
    "    cmpy = dict()\n",
    "    addr = [(addr_id, c_id) for addr_id, c_id in recs]\n",
    "    for addr_id, c_id in recs:\n",
    "        docs = c_id in cmpy and cmpy[c_id] or list()\n",
    "        docs.append(addr_id)\n",
    "        cmpy[c_id] = docs\n",
    "        \n",
    "    return dict(recs=recs,\n",
    "                addr_cmp=dict(addr),\n",
    "                cmp_addreses=cmpy)"
   ]
  },
  {
   "cell_type": "code",
   "execution_count": 128,
   "metadata": {},
   "outputs": [
    {
     "name": "stdout",
     "output_type": "stream",
     "text": [
      "dict_keys(['recs', 'addr_cmp', 'cmp_addreses'])\n"
     ]
    },
    {
     "data": {
      "text/plain": [
       "dict_keys(['company_id_idx', 'company_id_idx_inv', 'terms_docs', 'companies_table', 'companies_synonyms'])"
      ]
     },
     "execution_count": 128,
     "metadata": {},
     "output_type": "execute_result"
    }
   ],
   "source": [
    "# company_idx = build_company_idx()\n",
    "# company_terms_docs = company_idx['terms_docs']\n",
    "# company_id_idx_inv = company_idx['company_id_idx_inv']\n",
    "# companies_table = company_idx['companies_table']\n",
    "\n",
    "# un addresses \n",
    "\n",
    "addr_company_idx = get_addr_company_table()\n",
    "addr_cmp_idx = addr_company_idx['addr_cmp'] #\n",
    "cmp_addr_idx = addr_company_idx['cmp_addreses']\n",
    "print(addr_company_idx.keys())\n",
    "\n",
    "company_idx.keys()"
   ]
  },
  {
   "cell_type": "code",
   "execution_count": 137,
   "metadata": {},
   "outputs": [],
   "source": [
    "company_id_idx = company_idx['company_id_idx']\n",
    "company_id_idx"
   ]
  },
  {
   "cell_type": "code",
   "execution_count": 5,
   "metadata": {},
   "outputs": [],
   "source": [
    "# sel_plist_3_fields = sel_plist[sel_plist.columns[:3]].values\n",
    "# company_zone = company_index_to_docs(through_company_zone(sel_plist_3_fields, company_terms_docs))"
   ]
  },
  {
   "cell_type": "code",
   "execution_count": 95,
   "metadata": {},
   "outputs": [],
   "source": [
    "def company_index_to_docs(res):\n",
    "    print(res)"
   ]
  },
  {
   "cell_type": "code",
   "execution_count": null,
   "metadata": {},
   "outputs": [],
   "source": [
    "# row_num -> company_id\n",
    "# TODO: row_num -> docs\n",
    "company_row = 2696\n",
    "company_id = company_id_idx_inv[company_row]\n",
    "print('company_id {}'.format(company_id))\n",
    "addresses_cmp_id = cmp_addr_idx[addr_cmp_idx['64cb8085-926e-414a-90cf-d38a1dc4ef0b']]\n",
    "print('company_id address list: {}'.format(addresses_cmp_id))\n",
    "print('TODO: list of skus:')\n",
    "# print('company_id {}'.format(company_id))\n",
    "# # print(companies_table[company_row])\n",
    "# cmp_addr_idx"
   ]
  },
  {
   "cell_type": "code",
   "execution_count": null,
   "metadata": {},
   "outputs": [],
   "source": []
  }
 ],
 "metadata": {
  "kernelspec": {
   "display_name": "Python 3",
   "language": "python",
   "name": "python3"
  },
  "language_info": {
   "codemirror_mode": {
    "name": "ipython",
    "version": 3
   },
   "file_extension": ".py",
   "mimetype": "text/x-python",
   "name": "python",
   "nbconvert_exporter": "python",
   "pygments_lexer": "ipython3",
   "version": "3.7.3"
  }
 },
 "nbformat": 4,
 "nbformat_minor": 2
}
