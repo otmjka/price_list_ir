{
 "cells": [
  {
   "cell_type": "code",
   "execution_count": null,
   "metadata": {},
   "outputs": [],
   "source": [
    "# хочу идти по verified\n",
    "# 1. строчка прайса\n",
    "# 2. что верифицировано\n",
    "# 3. что найдено"
   ]
  },
  {
   "cell_type": "code",
   "execution_count": 13,
   "metadata": {},
   "outputs": [],
   "source": [
    "# from db.verified import report_row_num_un_uuid # (0)\n",
    "# # UN skus for indexing\n",
    "# from db.un import get_en_skus\n",
    "# from db.company import get_addr_company_table\n",
    "# from indexes.tn import build_tn_indexes, add_to_tn_index\n",
    "# from indexes.skus import build_sku_row_idx\n",
    "\n",
    "# from prices.helpers import load_pulse # (1)\n",
    "\n",
    "# from zones.tn import tn_zone\n",
    "# from zones.company import through_company_zone\n",
    "# from indexes.company import build_company_idx"
   ]
  },
  {
   "cell_type": "markdown",
   "metadata": {},
   "source": [
    "# Verified"
   ]
  },
  {
   "cell_type": "code",
   "execution_count": 2,
   "metadata": {},
   "outputs": [],
   "source": [
    "### price_row_num, un_id\n",
    "### OrderedDict([(39, 'a4fb182c-9d71-4d62-a405-70947f1dcc4e'),\n",
    "###             (40, 'a4fb182c-9d71-4d62-a405-70947f1dcc4e'), ...])\n",
    "verified = report_row_num_un_uuid() # (0)"
   ]
  },
  {
   "cell_type": "markdown",
   "metadata": {},
   "source": [
    "# Price list"
   ]
  },
  {
   "cell_type": "code",
   "execution_count": 5,
   "metadata": {},
   "outputs": [],
   "source": [
    "plist = load_pulse() # (1)"
   ]
  },
  {
   "cell_type": "markdown",
   "metadata": {},
   "source": [
    "# Indexes\n",
    "\n",
    "1. skus\n",
    "2. trade_name"
   ]
  },
  {
   "cell_type": "code",
   "execution_count": 30,
   "metadata": {},
   "outputs": [
    {
     "data": {
      "text/plain": [
       "dict_keys(['recs', 'addr_cmp', 'cmp_addreses'])"
      ]
     },
     "execution_count": 30,
     "metadata": {},
     "output_type": "execute_result"
    }
   ],
   "source": [
    "# # %time un_skus = get_en_skus()\n",
    "\n",
    "# sku_indexes = build_sku_row_idx()\n",
    "# # skus_rows_id_idx = sku_indexes['rows_id'] # {..., [`${row_num}`]: un_id, ...}\n",
    "# skus_id_rows_idx = sku_indexes['rows_id_inv'] # {..., [`${un_id}`]: row_num, ...}\n",
    "\n",
    "# %time tn_indexes = build_tn_indexes()\n",
    "\n",
    "#\n",
    "# Company\n",
    "#\n",
    "# from indexes.company import build_company_idx\n",
    "# TASK!: address_id => company_id => company short name\n",
    "# company_idx = build_company_idx()\n",
    "\n",
    "#\n",
    "# Company Address\n",
    "#\n",
    "\n",
    "# from db.company import get_addr_company_table\n",
    "# addr_company_idx = get_addr_company_table()\n",
    "\n",
    "# company_id_by_address_id = addr_company_idx['addr_cmp']"
   ]
  },
  {
   "cell_type": "code",
   "execution_count": 41,
   "metadata": {},
   "outputs": [],
   "source": [
    "# company_idx.keys()\n",
    "# company_id_idx = company_idx['company_id_idx']\n",
    "# company_src = company_idx['companies_table']\n",
    "# company_src[:10]\n"
   ]
  },
  {
   "cell_type": "markdown",
   "metadata": {},
   "source": [
    "# dosage"
   ]
  },
  {
   "cell_type": "code",
   "execution_count": 46,
   "metadata": {},
   "outputs": [
    {
     "data": {
      "text/plain": [
       "('0006df9c-f765-4821-82f0-0f5dd6b28126', 'лиофилизат спрея', '13.3')"
      ]
     },
     "execution_count": 46,
     "metadata": {},
     "output_type": "execute_result"
    }
   ],
   "source": [
    "# from db.dosage import fetch_dosage_forms\n",
    "# dosage_forms_idx['recs'] = fetch_dosage_forms()\n",
    "dosage_forms_recs[0]"
   ]
  },
  {
   "cell_type": "code",
   "execution_count": 54,
   "metadata": {},
   "outputs": [
    {
     "name": "stdout",
     "output_type": "stream",
     "text": [
      "таблетки, покрытые оболочкой\n"
     ]
    },
    {
     "data": {
      "text/plain": [
       "'таблетки, покрытые оболочкой'"
      ]
     },
     "execution_count": 54,
     "metadata": {},
     "output_type": "execute_result"
    }
   ],
   "source": [
    "# from indexes.forms import build_dosage_forms_idx\n",
    "# dosage_forms_idx = build_dosage_forms_idx()\n",
    "# dosage_row_id = dosage_forms_idx['id_row']\n",
    "# dosage_forms_recs = dosage_forms_idx['recs']\n",
    "# dosage_forms_idx.keys()\n",
    "row, un_id = verified_items[0]\n",
    "sku_row = skus_id_rows_idx[un_id]\n",
    "un_sku_data = un_skus[sku_row]\n",
    "\n",
    "sku_data = un_sku_data[1]\n",
    "dosage_id_list = get_dosage_form_id(sku_data)\n",
    "for dosage_id in dosage_id_list:\n",
    "    dosage_row = dosage_row_id[dosage_id]\n",
    "    dosage_rec = dosage_forms_recs[dosage_row]\n",
    "    dosage_name = dosage_rec[1]\n",
    "    print(dosage_name)\n",
    "\n",
    "dosage_name"
   ]
  },
  {
   "cell_type": "code",
   "execution_count": 60,
   "metadata": {},
   "outputs": [],
   "source": [
    "from helpers.skus import get_tn_from_data # ,  get_tn\n",
    "from indexes.company import get_address_id\n",
    "from indexes.forms import get_dosage_form_id\n",
    "\n",
    "def show_sku(sku_rec: tuple):\n",
    "    sku_id, sku_data = sku_rec\n",
    "    tn = get_tn_from_data(sku_data)\n",
    "    address_id = get_address_id(sku_data)\n",
    "    # TODO:\n",
    "    #     company_short_name_by_address(address_id)\n",
    "    company_id = company_id_by_address_id[address_id]\n",
    "    c_row = company_id_idx[company_id]\n",
    "    c_rec = company_src[c_row]\n",
    "    short_rus_name = c_rec[3] or c_rec[2] or c_rec[1]\n",
    "\n",
    "    #\n",
    "    # Dosage\n",
    "    #\n",
    "    dosage_id_list = get_dosage_form_id(sku_data)\n",
    "    dosage_names = list()\n",
    "    for dosage_id in dosage_id_list:\n",
    "        dosage_row = dosage_row_id[dosage_id]\n",
    "        dosage_rec = dosage_forms_recs[dosage_row]\n",
    "        dosage_name = dosage_rec[1]\n",
    "        dosage_names.append(dosage_name)\n",
    "        \n",
    "#     lform = get_\n",
    "#     lform, dosage, count, pack, company = ('конц-т д/приг. р-ра инфуз.', ' 250 мг 5 мл.', 'фл.', 'х1', 'company')\n",
    "#     msg = '{} {} {} {} {}'.format(tn, lform, dosage, pack, count, company)\n",
    "    return '[{}] [{}] [{}]'.format(tn, ';'.join(dosage_names), short_rus_name)"
   ]
  },
  {
   "cell_type": "code",
   "execution_count": 63,
   "metadata": {},
   "outputs": [
    {
     "name": "stdout",
     "output_type": "stream",
     "text": [
      "[0]\n",
      "P: 5-Нок табл. 50 мг х50 [Lek – Вектор]\n",
      "U: [5-нок] [таблетки, покрытые оболочкой] [ЛЕК]\n",
      "S: tn_zone dosage_zone company_zone\n",
      "[1]\n",
      "P: 5-Нок табл. 50 мг х50 [Lek – Сотекс]\n",
      "U: [5-нок] [таблетки, покрытые оболочкой] [ЛЕК]\n",
      "S: tn_zone dosage_zone company_zone\n",
      "[2]\n",
      "P: 5-Нок табл. п/о 50 мг х50 [Lek]\n",
      "U: [5-нок] [таблетки, покрытые оболочкой] [ЛЕК]\n",
      "S: tn_zone dosage_zone company_zone\n",
      "[3]\n",
      "P: 5-фторурацил конц-т д/приг. р-ра инфуз. 250 мг фл. 5 мл. х1 [Ebewe]\n",
      "U: [5-фторурацил-эбеве] [концентрат для приготовления раствора для инфузий] [ЕБЕВЕ ФАРМА]\n",
      "S: tn_zone dosage_zone company_zone\n",
      "[4]\n",
      "P: 5-фторурацил конц-т д/приг. р-ра инфуз. 250 мг фл. 5 мл. х5 [Ebewe]\n",
      "U: [5-фторурацил-эбеве] [концентрат для приготовления раствора для инфузий] [ЕБЕВЕ ФАРМА]\n",
      "S: tn_zone dosage_zone company_zone\n",
      "[5]\n",
      "P: 5-фторурацил конц-т д/приг. р-ра инфуз. 50 мг/мл фл. 20 мл. х1 не исп [Ebewe Pharma GesmbH Nfg KG]\n",
      "U: [5-фторурацил-эбеве] [концентрат для приготовления раствора для инфузий] [ЕБЕВЕ ФАРМА]\n",
      "S: tn_zone dosage_zone company_zone\n",
      "[6]\n",
      "P: 5-фторурацил конц-т д/приг. р-ра инфуз. 500 мг фл. 10 мл. х1 [Ebewe]\n",
      "U: [5-фторурацил-эбеве] [концентрат для приготовления раствора для инфузий] [ЕБЕВЕ ФАРМА]\n",
      "S: tn_zone dosage_zone company_zone\n",
      "[7]\n",
      "P: 5-фторурацил конц-т д/приг. р-ра инфуз. 5000 мг фл. 100 мл. х1 [Ebewe]\n",
      "U: [5-фторурацил-эбеве] [концентрат для приготовления раствора для инфузий] [ЕБЕВЕ ФАРМА]\n",
      "S: tn_zone dosage_zone company_zone\n",
      "[8]\n",
      "P: 5-фторурацил-Эбеве конц-т д/приг. р-ра инфуз. 50 мг/мл фл. 20 мл. х1 [Ebewe Pharma GesmbH Nfg KG]\n",
      "U: [5-фторурацил-эбеве] [концентрат для приготовления раствора для инфузий] [ЕБЕВЕ ФАРМА]\n",
      "S: tn_zone dosage_zone company_zone\n",
      "[9]\n",
      "P: 9 месяцев Фолиевая Кислота табл. п/о плен 0.4 мг х30 [ВалентаФармацевтика/ВалентаФарм]\n",
      "U: [9 месяцев фолиевая кислота] [таблетки, покрытые плёночной оболочкой] [ВАЛЕНТА ФАРМАЦЕВТИКА]\n",
      "S: tn_zone dosage_zone company_zone\n"
     ]
    }
   ],
   "source": [
    "verified_items = list(verified.items())[:10]\n",
    "for i, (price_i, un_id) in enumerate(verified_items):\n",
    "    # price\n",
    "    sel_plist = plist[price_i - 1:price_i]\n",
    "    sel_cols = sel_plist[sel_plist.columns[:3]]\n",
    "    values = sel_cols.values[0]\n",
    "    code, name, company = values\n",
    "    print('[{}]\\nP: {} [{}]'.format(i, name, company))\n",
    "    # varified\n",
    "    # un_id => str\n",
    "    sku_row = skus_id_rows_idx[un_id]\n",
    "    un_sku_data = un_skus[sku_row]\n",
    "    sku_msg = show_sku(un_sku_data)\n",
    "    print('U: {}'.format(sku_msg))\n",
    "    print('S: {} {} {}'.format('tn_zone', 'dosage_zone', 'company_zone'))\n"
   ]
  },
  {
   "cell_type": "code",
   "execution_count": 28,
   "metadata": {},
   "outputs": [
    {
     "data": {
      "text/plain": [
       "'5-нок'"
      ]
     },
     "execution_count": 28,
     "metadata": {},
     "output_type": "execute_result"
    }
   ],
   "source": [
    "get_tn(60249)"
   ]
  },
  {
   "cell_type": "code",
   "execution_count": 38,
   "metadata": {},
   "outputs": [
    {
     "data": {
      "text/plain": [
       "['5-нок', 'табл.', '50', 'мг', 'х50']"
      ]
     },
     "execution_count": 38,
     "metadata": {},
     "output_type": "execute_result"
    }
   ],
   "source": [
    "name_bow = get_bow(name)\n",
    "name_bow"
   ]
  },
  {
   "cell_type": "code",
   "execution_count": 41,
   "metadata": {},
   "outputs": [],
   "source": [
    "term0 = name_bow[0]"
   ]
  },
  {
   "cell_type": "code",
   "execution_count": 59,
   "metadata": {},
   "outputs": [],
   "source": [
    "def term_docs(term='нок', terms_docs=terms_docs):\n",
    "    if term not in terms_docs:\n",
    "        return print('[-]')\n",
    "    docs = terms_docs[term]\n",
    "    print(len(docs), len(set(docs)))\n",
    "    for doc in docs:\n",
    "        print(get_tn(doc))"
   ]
  },
  {
   "cell_type": "code",
   "execution_count": null,
   "metadata": {},
   "outputs": [],
   "source": [
    "indexes = build_tn_indexes()\n",
    "# в верефицированных\n",
    "rows_id_inv = indexes['rows_id_inv']\n",
    "rows_id_inv['a4fb182c-9d71-4d62-a405-70947f1dcc4e']\n",
    "terms_docs = indexes['terms_docs']\n",
    "indexes.keys()"
   ]
  },
  {
   "cell_type": "markdown",
   "metadata": {},
   "source": [
    "# END TRADE_NAME"
   ]
  },
  {
   "cell_type": "markdown",
   "metadata": {},
   "source": [
    "[?] как добавить в индекс add_to_tn_index(term='5', docs=[60249])"
   ]
  },
  {
   "cell_type": "code",
   "execution_count": 71,
   "metadata": {},
   "outputs": [],
   "source": [
    "def add_to_tn_index(term, doc):\n",
    "    # get existing item or new list\n",
    "    term_docs = term in terms_docs and terms_docs[term] or list()\n",
    "    if doc in term_docs:\n",
    "        return print('there is a doc[{}] in term[{}]'.format(doc, term))\n",
    "    # can optimizate, where insert?\n",
    "    term_docs.append(doc)\n",
    "    newdocs = sorted(term_docs)\n",
    "    terms_docs[term] = newdocs"
   ]
  },
  {
   "cell_type": "markdown",
   "metadata": {},
   "source": [
    "# TN RULES"
   ]
  },
  {
   "cell_type": "code",
   "execution_count": 72,
   "metadata": {},
   "outputs": [
    {
     "name": "stdout",
     "output_type": "stream",
     "text": [
      "there is a doc[60249] in term[5]\n",
      "there is a doc[60249] in term[нок]\n"
     ]
    }
   ],
   "source": [
    "term = '5'\n",
    "add_to_tn_index(term, doc=60249)\n",
    "term = 'нок'\n",
    "add_to_tn_index(term, doc=60249)"
   ]
  },
  {
   "cell_type": "code",
   "execution_count": 60,
   "metadata": {},
   "outputs": [
    {
     "name": "stdout",
     "output_type": "stream",
     "text": [
      "[-]\n"
     ]
    }
   ],
   "source": [
    "term_docs()"
   ]
  },
  {
   "cell_type": "code",
   "execution_count": 74,
   "metadata": {},
   "outputs": [
    {
     "data": {
      "text/plain": [
       "[[('5-нок', [60249]),\n",
       "  ('табл.', None),\n",
       "  ('50',\n",
       "   [9203,\n",
       "    24099,\n",
       "    24104,\n",
       "    29817,\n",
       "    50342,\n",
       "    50343,\n",
       "    50344,\n",
       "    91156,\n",
       "    106090,\n",
       "    131915,\n",
       "    131916,\n",
       "    132005]),\n",
       "  ('мг', [68457]),\n",
       "  ('х50', None)]]"
      ]
     },
     "execution_count": 74,
     "metadata": {},
     "output_type": "execute_result"
    }
   ],
   "source": [
    "tn_zone(name, terms_docs)"
   ]
  },
  {
   "cell_type": "markdown",
   "metadata": {},
   "source": [
    "# Company"
   ]
  },
  {
   "cell_type": "code",
   "execution_count": 128,
   "metadata": {},
   "outputs": [
    {
     "name": "stdout",
     "output_type": "stream",
     "text": [
      "dict_keys(['recs', 'addr_cmp', 'cmp_addreses'])\n"
     ]
    },
    {
     "data": {
      "text/plain": [
       "dict_keys(['company_id_idx', 'company_id_idx_inv', 'terms_docs', 'companies_table', 'companies_synonyms'])"
      ]
     },
     "execution_count": 128,
     "metadata": {},
     "output_type": "execute_result"
    }
   ],
   "source": [
    "# company_idx = build_company_idx()\n",
    "# company_terms_docs = company_idx['terms_docs']\n",
    "# company_id_idx_inv = company_idx['company_id_idx_inv']\n",
    "# companies_table = company_idx['companies_table']\n",
    "\n",
    "# un addresses \n",
    "\n",
    "addr_company_idx = get_addr_company_table()\n",
    "addr_cmp_idx = addr_company_idx['addr_cmp'] #\n",
    "cmp_addr_idx = addr_company_idx['cmp_addreses']\n",
    "print(addr_company_idx.keys())\n",
    "\n",
    "company_idx.keys()"
   ]
  },
  {
   "cell_type": "code",
   "execution_count": 137,
   "metadata": {},
   "outputs": [],
   "source": [
    "company_id_idx = company_idx['company_id_idx']\n",
    "company_id_idx"
   ]
  },
  {
   "cell_type": "code",
   "execution_count": 5,
   "metadata": {},
   "outputs": [],
   "source": [
    "# sel_plist_3_fields = sel_plist[sel_plist.columns[:3]].values\n",
    "# company_zone = company_index_to_docs(through_company_zone(sel_plist_3_fields, company_terms_docs))"
   ]
  },
  {
   "cell_type": "code",
   "execution_count": 95,
   "metadata": {},
   "outputs": [],
   "source": [
    "def company_index_to_docs(res):\n",
    "    print(res)"
   ]
  },
  {
   "cell_type": "code",
   "execution_count": null,
   "metadata": {},
   "outputs": [],
   "source": [
    "# row_num -> company_id\n",
    "# TODO: row_num -> docs\n",
    "company_row = 2696\n",
    "company_id = company_id_idx_inv[company_row]\n",
    "print('company_id {}'.format(company_id))\n",
    "addresses_cmp_id = cmp_addr_idx[addr_cmp_idx['64cb8085-926e-414a-90cf-d38a1dc4ef0b']]\n",
    "print('company_id address list: {}'.format(addresses_cmp_id))\n",
    "print('TODO: list of skus:')\n",
    "# print('company_id {}'.format(company_id))\n",
    "# # print(companies_table[company_row])\n",
    "# cmp_addr_idx"
   ]
  },
  {
   "cell_type": "code",
   "execution_count": null,
   "metadata": {},
   "outputs": [],
   "source": []
  }
 ],
 "metadata": {
  "kernelspec": {
   "display_name": "Python 3",
   "language": "python",
   "name": "python3"
  },
  "language_info": {
   "codemirror_mode": {
    "name": "ipython",
    "version": 3
   },
   "file_extension": ".py",
   "mimetype": "text/x-python",
   "name": "python",
   "nbconvert_exporter": "python",
   "pygments_lexer": "ipython3",
   "version": "3.7.3"
  }
 },
 "nbformat": 4,
 "nbformat_minor": 2
}
