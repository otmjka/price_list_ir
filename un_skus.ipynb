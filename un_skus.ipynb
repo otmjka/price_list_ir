{
 "cells": [
  {
   "cell_type": "markdown",
   "metadata": {},
   "source": [
    "# Company\n",
    "\n",
    "http://localhost:8888/notebooks/trade_name.ipynb\n",
    "\n",
    "```\n",
    "[[('lek', [2696, 2727]), ('–', [34, 55, 1904, 2445, 2568, 2795, 2889, 3146, 3271, 3304, 3485, 3627]), ('вектор', [1935])]]\n",
    "```\n",
    "\n",
    "instead 2696(company index row) we should result list of docs where this company occured 2696 => [sku_row_idx_0, ...]\n"
   ]
  },
  {
   "cell_type": "code",
   "execution_count": 1,
   "metadata": {},
   "outputs": [],
   "source": [
    "from indexes.company import build_skus_by_company_row\n",
    "\n",
    "row_docs = build_skus_by_company_row()\n",
    "\n",
    "# company_idx = build_company_idx()\n",
    "# company_id_idx = company_idx['company_id_idx']\n",
    "\n",
    "### 'company_id_idx' {[company_id]: row_num, ...}\n",
    "### 'company_id_idx_inv' {[row_num]: company_id, ...}\n",
    "### 'terms_docs' {[term]: company_row_num, ...}\n",
    "### 'companies_table' [..., (company_id, original_name, name_rus, name_rus_short), ...]\n",
    "### [..., ('01a2dbe9-f60c-4c00-a847-ce4f82786dde', 'LTD NEOPHARMI', 'ЛТД НЕОФАРМИ', 'НЕОФАРМИ'),...]\n",
    "### 'companies_synonyms' [..., (company_id, name), ...]"
   ]
  },
  {
   "cell_type": "code",
   "execution_count": 49,
   "metadata": {},
   "outputs": [
    {
     "data": {
      "text/plain": [
       "'5616c61a-d00c-4d09-a9ab-d847226bb3b3'"
      ]
     },
     "execution_count": 49,
     "metadata": {},
     "output_type": "execute_result"
    }
   ],
   "source": [
    "# from db.company import get_addr_company_table\n",
    "\n",
    "# addr_company_idx = get_addr_company_table()\n",
    "# addr_company_idx['recs'] => [..., (address_id, company_id), ...] order by address_id\n",
    "# addr_company_idx['addr_cmp'] => {..., [`${address_id}`]: company_id, ...}\n",
    "# addr_company_idx['cmp_addreses'] => {..., [`${company_id}`]: [address_id0, address_id1, ...], ...}\n",
    "# {'1de61010-66ea-454c-a59c-cb98c349183a': [\n",
    "#  '0000dd59-1c1e-4e99-b1fd-79618b6ce844',\n",
    "#  'd634c011-3e02-4d03-9eeb-1f60c6e63c16'],...}\n",
    "\n",
    "# fail address id d8c7d99f-17e2-422e-a8dc-306fbb502483\n",
    "#  sku: [46127]51c219b3-071c-47b0-bd2f-3ede6f091649\n",
    "# fail address id d8c7d99f-17e2-422e-a8dc-306fbb502483\n",
    "#  sku: [50758]59a60901-340c-49f6-a47a-f01ce772cde5\n",
    "# fail address id d8c7d99f-17e2-422e-a8dc-306fbb502483\n",
    "#  sku: [132135]eb196502-7f24-4580-8337-3efc531cd194\n",
    "\n",
    "\n",
    "# aid = 'd8c7d99f-17e2-422e-a8dc-306fbb502483'\n",
    "# cid = '5616c61a-d00c-4d09-a9ab-d847226bb3b3'\n",
    "        \n",
    "# add_to_company_idx(address_id=aid, company_id=cid, idx=addr_company_idx['addr_cmp'])    \n",
    "# addr_company_idx['addr_cmp'][aid]\n",
    "# addreses_by_company_id = addr_company_idx['cmp_addreses']\n",
    "# company_id_by_address = addr_company_idx['addr_cmp']"
   ]
  }
 ],
 "metadata": {
  "kernelspec": {
   "display_name": "Python 3",
   "language": "python",
   "name": "python3"
  },
  "language_info": {
   "codemirror_mode": {
    "name": "ipython",
    "version": 3
   },
   "file_extension": ".py",
   "mimetype": "text/x-python",
   "name": "python",
   "nbconvert_exporter": "python",
   "pygments_lexer": "ipython3",
   "version": "3.7.3"
  }
 },
 "nbformat": 4,
 "nbformat_minor": 2
}
